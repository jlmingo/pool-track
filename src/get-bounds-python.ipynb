{
 "cells": [
  {
   "cell_type": "code",
   "execution_count": 117,
   "metadata": {},
   "outputs": [],
   "source": [
    "import numpy as np\n",
    "import math\n"
   ]
  },
  {
   "cell_type": "markdown",
   "metadata": {},
   "source": [
    "$x = \\frac{128}{π} * 2^{zoom} * (λ + π)  $\n"
   ]
  },
  {
   "cell_type": "code",
   "execution_count": 98,
   "metadata": {},
   "outputs": [],
   "source": [
    "zoom = 20\n",
    "longitude = -77.0378993859784\n",
    "latitude = 38.98679513772656\n",
    "width, heigh = 400, 400"
   ]
  },
  {
   "cell_type": "code",
   "execution_count": 91,
   "metadata": {},
   "outputs": [],
   "source": [
    "def coords_to_pixel(longitude, latitude, zoom):\n",
    "    x = (128/np.pi) * (2**zoom) * (np.radians(longitude) + np.pi)\n",
    "    y = (128/np.pi) * (2**zoom) * (np.pi - np.log(np.tan(np.pi/4 + np.radians(latitude)/2)))\n",
    "    return x, y"
   ]
  },
  {
   "cell_type": "code",
   "execution_count": 99,
   "metadata": {},
   "outputs": [],
   "source": [
    "def pixel_to_coords(x,y,zoom):\n",
    "    longitude = x / ((128/np.pi) * (2**zoom)) - np.pi\n",
    "    latitude = 2 * np.arctan(np.exp(np.pi - y / (128 / np.pi*2**zoom))) - np.pi / 2\n",
    "    return (np.degrees(longitude), np.degrees(latitude))"
   ]
  },
  {
   "cell_type": "code",
   "execution_count": 110,
   "metadata": {},
   "outputs": [],
   "source": [
    "def bounds_coords(longitude, latitude, zoom):\n",
    "    x = coords_to_pixel(longitude, latitude, zoom)[0]\n",
    "    y = coords_to_pixel(longitude, latitude, zoom)[1]\n",
    "    \n",
    "    left = x - (width/2)\n",
    "    right = x + (width/2)\n",
    "    top = y - (heigh/2)\n",
    "    bottom = y + (heigh/2)\n",
    "    \n",
    "    left_bottom_coords = pixel_to_coords(left, bottom, zoom)\n",
    "    right_top_coords = pixel_to_coords(right, top, zoom)\n",
    "    \n",
    "    return [left_bottom_coords, right_top_coords]"
   ]
  },
  {
   "cell_type": "code",
   "execution_count": 112,
   "metadata": {},
   "outputs": [
    {
     "data": {
      "text/plain": [
       "[(-77.0381676068799, 38.98658665173235),\n",
       " (-77.0376311650769, 38.987003623106716)]"
      ]
     },
     "execution_count": 112,
     "metadata": {},
     "output_type": "execute_result"
    }
   ],
   "source": [
    "bounds_coords(longitude, latitude, 20)"
   ]
  },
  {
   "cell_type": "code",
   "execution_count": 141,
   "metadata": {},
   "outputs": [],
   "source": [
    "def deg2num(lon_deg, lat_deg, zoom):\n",
    "    lat_rad = math.radians(lat_deg)\n",
    "    n = 2.0 ** zoom\n",
    "    xtile = int((lon_deg + 180.0) / 360.0 * n)\n",
    "    ytile = int((1.0 - math.asinh(math.tan(lat_rad)) / math.pi) / 2.0 * n)\n",
    "    return (xtile, ytile)"
   ]
  },
  {
   "cell_type": "code",
   "execution_count": 119,
   "metadata": {},
   "outputs": [],
   "source": [
    "def num2deg(xtile, ytile, zoom):\n",
    "    n = 2.0 ** zoom\n",
    "    lon_deg = xtile / n * 360.0 - 180.0\n",
    "    lat_rad = math.atan(math.sinh(math.pi * (1 - 2 * ytile / n)))\n",
    "    lat_deg = math.degrees(lat_rad)\n",
    "    return (lat_deg, lon_deg)"
   ]
  },
  {
   "cell_type": "code",
   "execution_count": 124,
   "metadata": {},
   "outputs": [
    {
     "data": {
      "text/plain": [
       "(299898, 400794)"
      ]
     },
     "execution_count": 124,
     "metadata": {},
     "output_type": "execute_result"
    }
   ],
   "source": [
    "deg2num(38.98658665173235, -77.0381676068799, 20)"
   ]
  },
  {
   "cell_type": "code",
   "execution_count": 125,
   "metadata": {},
   "outputs": [
    {
     "data": {
      "text/plain": [
       "(38.98663397879042, -77.03819274902344)"
      ]
     },
     "execution_count": 125,
     "metadata": {},
     "output_type": "execute_result"
    }
   ],
   "source": [
    "num2deg(299898, 400794, 20)"
   ]
  },
  {
   "cell_type": "code",
   "execution_count": 126,
   "metadata": {},
   "outputs": [],
   "source": [
    "import geopandas as gpd"
   ]
  },
  {
   "cell_type": "code",
   "execution_count": 127,
   "metadata": {},
   "outputs": [],
   "source": [
    "import pandas as pd"
   ]
  },
  {
   "cell_type": "code",
   "execution_count": 129,
   "metadata": {},
   "outputs": [],
   "source": [
    "gdf = gpd.read_file(\"/home/jorgelm/data-projects/prework-pool-detection/mygeodata/swimming_polygon.shp\")"
   ]
  },
  {
   "cell_type": "code",
   "execution_count": 130,
   "metadata": {},
   "outputs": [
    {
     "data": {
      "text/html": [
       "<div>\n",
       "<style scoped>\n",
       "    .dataframe tbody tr th:only-of-type {\n",
       "        vertical-align: middle;\n",
       "    }\n",
       "\n",
       "    .dataframe tbody tr th {\n",
       "        vertical-align: top;\n",
       "    }\n",
       "\n",
       "    .dataframe thead th {\n",
       "        text-align: right;\n",
       "    }\n",
       "</style>\n",
       "<table border=\"1\" class=\"dataframe\">\n",
       "  <thead>\n",
       "    <tr style=\"text-align: right;\">\n",
       "      <th></th>\n",
       "      <th>leisure</th>\n",
       "      <th>access</th>\n",
       "      <th>name</th>\n",
       "      <th>addr_city</th>\n",
       "      <th>addr_house</th>\n",
       "      <th>addr_postc</th>\n",
       "      <th>addr_state</th>\n",
       "      <th>addr_stree</th>\n",
       "      <th>operator</th>\n",
       "      <th>covered</th>\n",
       "      <th>sport</th>\n",
       "      <th>building</th>\n",
       "      <th>geometry</th>\n",
       "    </tr>\n",
       "  </thead>\n",
       "  <tbody>\n",
       "    <tr>\n",
       "      <th>0</th>\n",
       "      <td>swimming_pool</td>\n",
       "      <td>customers</td>\n",
       "      <td>Hot tub</td>\n",
       "      <td>None</td>\n",
       "      <td>None</td>\n",
       "      <td>None</td>\n",
       "      <td>None</td>\n",
       "      <td>None</td>\n",
       "      <td>None</td>\n",
       "      <td>None</td>\n",
       "      <td>None</td>\n",
       "      <td>None</td>\n",
       "      <td>POLYGON ((-98.53263 29.55728, -98.53262 29.557...</td>\n",
       "    </tr>\n",
       "    <tr>\n",
       "      <th>1</th>\n",
       "      <td>swimming_pool</td>\n",
       "      <td>customers</td>\n",
       "      <td>Infinity Pool</td>\n",
       "      <td>None</td>\n",
       "      <td>None</td>\n",
       "      <td>None</td>\n",
       "      <td>None</td>\n",
       "      <td>None</td>\n",
       "      <td>None</td>\n",
       "      <td>None</td>\n",
       "      <td>None</td>\n",
       "      <td>None</td>\n",
       "      <td>POLYGON ((-98.53289 29.55749, -98.53285 29.557...</td>\n",
       "    </tr>\n",
       "    <tr>\n",
       "      <th>2</th>\n",
       "      <td>swimming_pool</td>\n",
       "      <td>customers</td>\n",
       "      <td>None</td>\n",
       "      <td>None</td>\n",
       "      <td>None</td>\n",
       "      <td>None</td>\n",
       "      <td>None</td>\n",
       "      <td>None</td>\n",
       "      <td>None</td>\n",
       "      <td>None</td>\n",
       "      <td>None</td>\n",
       "      <td>None</td>\n",
       "      <td>POLYGON ((-98.64277 29.43947, -98.64273 29.439...</td>\n",
       "    </tr>\n",
       "    <tr>\n",
       "      <th>3</th>\n",
       "      <td>swimming_pool</td>\n",
       "      <td>customers</td>\n",
       "      <td>None</td>\n",
       "      <td>None</td>\n",
       "      <td>None</td>\n",
       "      <td>None</td>\n",
       "      <td>None</td>\n",
       "      <td>None</td>\n",
       "      <td>None</td>\n",
       "      <td>None</td>\n",
       "      <td>None</td>\n",
       "      <td>None</td>\n",
       "      <td>POLYGON ((-98.53281 29.55743, -98.53264 29.557...</td>\n",
       "    </tr>\n",
       "    <tr>\n",
       "      <th>4</th>\n",
       "      <td>swimming_pool</td>\n",
       "      <td>membership</td>\n",
       "      <td>Colonies North Pool</td>\n",
       "      <td>None</td>\n",
       "      <td>None</td>\n",
       "      <td>None</td>\n",
       "      <td>None</td>\n",
       "      <td>None</td>\n",
       "      <td>Colonies House</td>\n",
       "      <td>None</td>\n",
       "      <td>None</td>\n",
       "      <td>None</td>\n",
       "      <td>POLYGON ((-98.55355 29.53354, -98.55332 29.533...</td>\n",
       "    </tr>\n",
       "    <tr>\n",
       "      <th>...</th>\n",
       "      <td>...</td>\n",
       "      <td>...</td>\n",
       "      <td>...</td>\n",
       "      <td>...</td>\n",
       "      <td>...</td>\n",
       "      <td>...</td>\n",
       "      <td>...</td>\n",
       "      <td>...</td>\n",
       "      <td>...</td>\n",
       "      <td>...</td>\n",
       "      <td>...</td>\n",
       "      <td>...</td>\n",
       "      <td>...</td>\n",
       "    </tr>\n",
       "    <tr>\n",
       "      <th>256</th>\n",
       "      <td>swimming_pool</td>\n",
       "      <td>None</td>\n",
       "      <td>None</td>\n",
       "      <td>None</td>\n",
       "      <td>None</td>\n",
       "      <td>None</td>\n",
       "      <td>None</td>\n",
       "      <td>None</td>\n",
       "      <td>None</td>\n",
       "      <td>None</td>\n",
       "      <td>None</td>\n",
       "      <td>None</td>\n",
       "      <td>POLYGON ((-98.61069 29.59981, -98.61059 29.599...</td>\n",
       "    </tr>\n",
       "    <tr>\n",
       "      <th>257</th>\n",
       "      <td>swimming_pool</td>\n",
       "      <td>None</td>\n",
       "      <td>None</td>\n",
       "      <td>None</td>\n",
       "      <td>None</td>\n",
       "      <td>None</td>\n",
       "      <td>None</td>\n",
       "      <td>None</td>\n",
       "      <td>None</td>\n",
       "      <td>None</td>\n",
       "      <td>None</td>\n",
       "      <td>None</td>\n",
       "      <td>POLYGON ((-98.61017 29.60070, -98.61017 29.600...</td>\n",
       "    </tr>\n",
       "    <tr>\n",
       "      <th>258</th>\n",
       "      <td>swimming_pool</td>\n",
       "      <td>None</td>\n",
       "      <td>None</td>\n",
       "      <td>None</td>\n",
       "      <td>None</td>\n",
       "      <td>None</td>\n",
       "      <td>None</td>\n",
       "      <td>None</td>\n",
       "      <td>None</td>\n",
       "      <td>None</td>\n",
       "      <td>None</td>\n",
       "      <td>None</td>\n",
       "      <td>POLYGON ((-98.60745 29.61064, -98.60743 29.610...</td>\n",
       "    </tr>\n",
       "    <tr>\n",
       "      <th>259</th>\n",
       "      <td>swimming_pool</td>\n",
       "      <td>None</td>\n",
       "      <td>None</td>\n",
       "      <td>None</td>\n",
       "      <td>None</td>\n",
       "      <td>None</td>\n",
       "      <td>None</td>\n",
       "      <td>None</td>\n",
       "      <td>None</td>\n",
       "      <td>None</td>\n",
       "      <td>None</td>\n",
       "      <td>None</td>\n",
       "      <td>POLYGON ((-98.59662 29.61403, -98.59651 29.614...</td>\n",
       "    </tr>\n",
       "    <tr>\n",
       "      <th>260</th>\n",
       "      <td>swimming_pool</td>\n",
       "      <td>None</td>\n",
       "      <td>None</td>\n",
       "      <td>None</td>\n",
       "      <td>None</td>\n",
       "      <td>None</td>\n",
       "      <td>None</td>\n",
       "      <td>None</td>\n",
       "      <td>None</td>\n",
       "      <td>None</td>\n",
       "      <td>None</td>\n",
       "      <td>None</td>\n",
       "      <td>POLYGON ((-98.61902 29.65093, -98.61876 29.650...</td>\n",
       "    </tr>\n",
       "  </tbody>\n",
       "</table>\n",
       "<p>261 rows × 13 columns</p>\n",
       "</div>"
      ],
      "text/plain": [
       "           leisure      access                 name addr_city addr_house  \\\n",
       "0    swimming_pool   customers              Hot tub      None       None   \n",
       "1    swimming_pool   customers        Infinity Pool      None       None   \n",
       "2    swimming_pool   customers                 None      None       None   \n",
       "3    swimming_pool   customers                 None      None       None   \n",
       "4    swimming_pool  membership  Colonies North Pool      None       None   \n",
       "..             ...         ...                  ...       ...        ...   \n",
       "256  swimming_pool        None                 None      None       None   \n",
       "257  swimming_pool        None                 None      None       None   \n",
       "258  swimming_pool        None                 None      None       None   \n",
       "259  swimming_pool        None                 None      None       None   \n",
       "260  swimming_pool        None                 None      None       None   \n",
       "\n",
       "    addr_postc addr_state addr_stree        operator covered sport building  \\\n",
       "0         None       None       None            None    None  None     None   \n",
       "1         None       None       None            None    None  None     None   \n",
       "2         None       None       None            None    None  None     None   \n",
       "3         None       None       None            None    None  None     None   \n",
       "4         None       None       None  Colonies House    None  None     None   \n",
       "..         ...        ...        ...             ...     ...   ...      ...   \n",
       "256       None       None       None            None    None  None     None   \n",
       "257       None       None       None            None    None  None     None   \n",
       "258       None       None       None            None    None  None     None   \n",
       "259       None       None       None            None    None  None     None   \n",
       "260       None       None       None            None    None  None     None   \n",
       "\n",
       "                                              geometry  \n",
       "0    POLYGON ((-98.53263 29.55728, -98.53262 29.557...  \n",
       "1    POLYGON ((-98.53289 29.55749, -98.53285 29.557...  \n",
       "2    POLYGON ((-98.64277 29.43947, -98.64273 29.439...  \n",
       "3    POLYGON ((-98.53281 29.55743, -98.53264 29.557...  \n",
       "4    POLYGON ((-98.55355 29.53354, -98.55332 29.533...  \n",
       "..                                                 ...  \n",
       "256  POLYGON ((-98.61069 29.59981, -98.61059 29.599...  \n",
       "257  POLYGON ((-98.61017 29.60070, -98.61017 29.600...  \n",
       "258  POLYGON ((-98.60745 29.61064, -98.60743 29.610...  \n",
       "259  POLYGON ((-98.59662 29.61403, -98.59651 29.614...  \n",
       "260  POLYGON ((-98.61902 29.65093, -98.61876 29.650...  \n",
       "\n",
       "[261 rows x 13 columns]"
      ]
     },
     "execution_count": 130,
     "metadata": {},
     "output_type": "execute_result"
    }
   ],
   "source": [
    "gdf"
   ]
  },
  {
   "cell_type": "code",
   "execution_count": 131,
   "metadata": {},
   "outputs": [],
   "source": [
    "# {\n",
    "#   \"type\": \"FeatureCollection\",\n",
    "#   \"features\": [\n",
    "#     {\n",
    "#       \"type\": \"Feature\",\n",
    "#       \"properties\": {},\n",
    "#       \"geometry\": {\n",
    "#         \"type\": \"Polygon\",\n",
    "#         \"coordinates\": [\n",
    "#           [\n",
    "#             [\n",
    "#               -77.04668998718262,\n",
    "#               38.89183448892334\n",
    "#             ],\n",
    "#             [\n",
    "#               -77.00935363769531,\n",
    "#               38.89183448892334\n",
    "#             ],\n",
    "#             [\n",
    "#               -77.00935363769531,\n",
    "#               38.911739537010554\n",
    "#             ],\n",
    "#             [\n",
    "#               -77.04668998718262,\n",
    "#               38.911739537010554\n",
    "#             ],\n",
    "#             [\n",
    "#               -77.04668998718262,\n",
    "#               38.89183448892334\n",
    "#             ]\n",
    "#           ]\n",
    "#         ]\n",
    "#       }\n",
    "#     }\n",
    "#   ]\n",
    "# }"
   ]
  },
  {
   "cell_type": "code",
   "execution_count": 132,
   "metadata": {},
   "outputs": [],
   "source": [
    "coordinate1 = (-77.04668998718262, 38.89183448892334)"
   ]
  },
  {
   "cell_type": "code",
   "execution_count": 133,
   "metadata": {},
   "outputs": [],
   "source": [
    "coordinate2 = (-77.00935363769531, 38.911739537010554)"
   ]
  },
  {
   "cell_type": "code",
   "execution_count": 134,
   "metadata": {},
   "outputs": [],
   "source": [
    "c1_til = deg2num(38.89183448892334, -77.04668998718262, 20)"
   ]
  },
  {
   "cell_type": "code",
   "execution_count": 135,
   "metadata": {},
   "outputs": [
    {
     "data": {
      "text/plain": [
       "(299873, 401148)"
      ]
     },
     "execution_count": 135,
     "metadata": {},
     "output_type": "execute_result"
    }
   ],
   "source": [
    "c1_til"
   ]
  },
  {
   "cell_type": "code",
   "execution_count": 136,
   "metadata": {},
   "outputs": [],
   "source": [
    "c2_til = deg2num(38.911739537010554, -77.00935363769531, 20)"
   ]
  },
  {
   "cell_type": "code",
   "execution_count": 137,
   "metadata": {},
   "outputs": [
    {
     "data": {
      "text/plain": [
       "(299982, 401074)"
      ]
     },
     "execution_count": 137,
     "metadata": {},
     "output_type": "execute_result"
    }
   ],
   "source": [
    "c2_til"
   ]
  },
  {
   "cell_type": "code",
   "execution_count": 138,
   "metadata": {},
   "outputs": [
    {
     "data": {
      "text/plain": [
       "109"
      ]
     },
     "execution_count": 138,
     "metadata": {},
     "output_type": "execute_result"
    }
   ],
   "source": [
    "c2_til[0]-c1_til[0]"
   ]
  },
  {
   "cell_type": "code",
   "execution_count": 139,
   "metadata": {},
   "outputs": [
    {
     "data": {
      "text/plain": [
       "-74"
      ]
     },
     "execution_count": 139,
     "metadata": {},
     "output_type": "execute_result"
    }
   ],
   "source": [
    "c2_til[1]-c1_til[1]"
   ]
  },
  {
   "cell_type": "code",
   "execution_count": 140,
   "metadata": {},
   "outputs": [
    {
     "data": {
      "text/plain": [
       "8066"
      ]
     },
     "execution_count": 140,
     "metadata": {},
     "output_type": "execute_result"
    }
   ],
   "source": [
    "+109*74"
   ]
  },
  {
   "cell_type": "code",
   "execution_count": 148,
   "metadata": {},
   "outputs": [],
   "source": [
    "def nTiles(left_top_coord, right_bottom_coord):\n",
    "    #input coords as (longitude, latitude)\n",
    "    c1_tile = deg2num(left_top_coord[0], left_top_coord[1], zoom=20)\n",
    "    c2_tile = deg2num(right_bottom_coord[0], right_bottom_coord[1], zoom=20)\n",
    "    print(c1_tile, c2_tile)\n",
    "    return ((c1_tile[0]-c2_tile[0])*(c1_tile[1]-c2_tile[1]))"
   ]
  },
  {
   "cell_type": "code",
   "execution_count": 149,
   "metadata": {},
   "outputs": [
    {
     "name": "stdout",
     "output_type": "stream",
     "text": [
      "(299858, 401090) (299971, 401148)\n"
     ]
    },
    {
     "data": {
      "text/plain": [
       "6554"
      ]
     },
     "execution_count": 149,
     "metadata": {},
     "output_type": "execute_result"
    }
   ],
   "source": [
    "c1=(-77.05166816711426, 38.90733151751689)\n",
    "c2=(-77.01313018798828, 38.89183448892334)\n",
    "\n",
    "nTiles(c1, c2)"
   ]
  },
  {
   "cell_type": "code",
   "execution_count": null,
   "metadata": {},
   "outputs": [],
   "source": []
  }
 ],
 "metadata": {
  "kernelspec": {
   "display_name": "Python 3",
   "language": "python",
   "name": "python3"
  },
  "language_info": {
   "codemirror_mode": {
    "name": "ipython",
    "version": 3
   },
   "file_extension": ".py",
   "mimetype": "text/x-python",
   "name": "python",
   "nbconvert_exporter": "python",
   "pygments_lexer": "ipython3",
   "version": "3.6.8"
  }
 },
 "nbformat": 4,
 "nbformat_minor": 2
}
