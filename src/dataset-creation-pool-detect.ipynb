{
 "cells": [
  {
   "cell_type": "code",
   "execution_count": 18,
   "metadata": {},
   "outputs": [],
   "source": [
    "import geopandas as gpd\n",
    "import requests\n",
    "import os \n",
    "from dotenv import load_dotenv\n",
    "import urllib\n",
    "from geo_functions import nTiles, num2deg, deg2num\n",
    "import pandas as pd\n",
    "import numpy as np\n",
    "from popfunctions import download_tiles, tiles_lister"
   ]
  },
  {
   "cell_type": "code",
   "execution_count": 2,
   "metadata": {},
   "outputs": [],
   "source": [
    "gdf = gpd.read_file(\"/home/jorgelm/data-projects/prework-pool-detection/Swimming_Pools_2015/Swimming_Pools_2015.shp\")"
   ]
  },
  {
   "cell_type": "code",
   "execution_count": 3,
   "metadata": {},
   "outputs": [],
   "source": [
    "gdf['centroid'] = gdf['geometry'].centroid"
   ]
  },
  {
   "cell_type": "code",
   "execution_count": 12,
   "metadata": {},
   "outputs": [],
   "source": [
    "load_dotenv()\n",
    "key = 'GOOGLETOKEN'\n",
    "value = os.getenv(key) "
   ]
  },
  {
   "cell_type": "code",
   "execution_count": 24,
   "metadata": {},
   "outputs": [],
   "source": [
    "y_coord= gdf.centroid[0].y\n",
    "x_coord = gdf.centroid[0].x\n",
    "# res = requests.get(f\"https://maps.googleapis.com/maps/api/staticmap?center=y,x&zoom=20&size=400x400&maptype=satellite&key={value}\")"
   ]
  },
  {
   "cell_type": "code",
   "execution_count": 40,
   "metadata": {},
   "outputs": [],
   "source": [
    "import urllib.request\n",
    "\n",
    "\n",
    "def downloader(image_url, i):\n",
    "    file_name = \"pool-\"+ str(i) + '.png'\n",
    "    urllib.request.urlretrieve(image_url,file_name)\n",
    "\n",
    "## The below downloads \n",
    "# downloader(f\"https://maps.googleapis.com/maps/api/staticmap?center={y_coord},{x_coord}&zoom=20&size=400x400&maptype=satellite&key={value}\")"
   ]
  },
  {
   "cell_type": "code",
   "execution_count": null,
   "metadata": {},
   "outputs": [],
   "source": [
    "# Download all Washington pools, commented to avoid executing\n",
    "# for index, row in gdf.iterrows():\n",
    "#     y_coord= row.centroid.y\n",
    "#     x_coord = row.centroid.x\n",
    "#     url = f\"https://maps.googleapis.com/maps/api/staticmap?center={y_coord},{x_coord}&zoom=20&size=400x400&maptype=satellite&key={value}\"\n",
    "#     downloader(url, index)"
   ]
  },
  {
   "cell_type": "code",
   "execution_count": 43,
   "metadata": {},
   "outputs": [],
   "source": [
    "#Centroid coordinates"
   ]
  },
  {
   "cell_type": "code",
   "execution_count": 9,
   "metadata": {},
   "outputs": [],
   "source": [
    "gdf[\"centroid_export\"] = gdf.centroid.apply(lambda row: (row.x, row.y))"
   ]
  },
  {
   "cell_type": "code",
   "execution_count": 11,
   "metadata": {},
   "outputs": [],
   "source": []
  },
  {
   "cell_type": "code",
   "execution_count": 12,
   "metadata": {},
   "outputs": [],
   "source": [
    "df1 = pd.DataFrame(gdf.centroid_export)"
   ]
  },
  {
   "cell_type": "code",
   "execution_count": 13,
   "metadata": {},
   "outputs": [
    {
     "data": {
      "text/html": [
       "<div>\n",
       "<style scoped>\n",
       "    .dataframe tbody tr th:only-of-type {\n",
       "        vertical-align: middle;\n",
       "    }\n",
       "\n",
       "    .dataframe tbody tr th {\n",
       "        vertical-align: top;\n",
       "    }\n",
       "\n",
       "    .dataframe thead th {\n",
       "        text-align: right;\n",
       "    }\n",
       "</style>\n",
       "<table border=\"1\" class=\"dataframe\">\n",
       "  <thead>\n",
       "    <tr style=\"text-align: right;\">\n",
       "      <th></th>\n",
       "      <th>centroid_export</th>\n",
       "    </tr>\n",
       "  </thead>\n",
       "  <tbody>\n",
       "    <tr>\n",
       "      <th>0</th>\n",
       "      <td>(-77.0378993859784, 38.98679513772656)</td>\n",
       "    </tr>\n",
       "    <tr>\n",
       "      <th>1</th>\n",
       "      <td>(-77.0382505072557, 38.98663581028714)</td>\n",
       "    </tr>\n",
       "    <tr>\n",
       "      <th>2</th>\n",
       "      <td>(-77.0411109570142, 38.98644830105077)</td>\n",
       "    </tr>\n",
       "    <tr>\n",
       "      <th>3</th>\n",
       "      <td>(-77.03730924321326, 38.98625899748525)</td>\n",
       "    </tr>\n",
       "    <tr>\n",
       "      <th>4</th>\n",
       "      <td>(-77.03785329572912, 38.98629794946241)</td>\n",
       "    </tr>\n",
       "    <tr>\n",
       "      <th>...</th>\n",
       "      <td>...</td>\n",
       "    </tr>\n",
       "    <tr>\n",
       "      <th>1612</th>\n",
       "      <td>(-77.00976534197933, 38.82265014722453)</td>\n",
       "    </tr>\n",
       "    <tr>\n",
       "      <th>1613</th>\n",
       "      <td>(-77.00833802868878, 38.82261431077552)</td>\n",
       "    </tr>\n",
       "    <tr>\n",
       "      <th>1614</th>\n",
       "      <td>(-77.00844052988481, 38.822476964558625)</td>\n",
       "    </tr>\n",
       "    <tr>\n",
       "      <th>1615</th>\n",
       "      <td>(-77.00965828520242, 38.82241530417863)</td>\n",
       "    </tr>\n",
       "    <tr>\n",
       "      <th>1616</th>\n",
       "      <td>(-77.01346207707968, 38.81602552376429)</td>\n",
       "    </tr>\n",
       "  </tbody>\n",
       "</table>\n",
       "<p>1617 rows × 1 columns</p>\n",
       "</div>"
      ],
      "text/plain": [
       "                               centroid_export\n",
       "0       (-77.0378993859784, 38.98679513772656)\n",
       "1       (-77.0382505072557, 38.98663581028714)\n",
       "2       (-77.0411109570142, 38.98644830105077)\n",
       "3      (-77.03730924321326, 38.98625899748525)\n",
       "4      (-77.03785329572912, 38.98629794946241)\n",
       "...                                        ...\n",
       "1612   (-77.00976534197933, 38.82265014722453)\n",
       "1613   (-77.00833802868878, 38.82261431077552)\n",
       "1614  (-77.00844052988481, 38.822476964558625)\n",
       "1615   (-77.00965828520242, 38.82241530417863)\n",
       "1616   (-77.01346207707968, 38.81602552376429)\n",
       "\n",
       "[1617 rows x 1 columns]"
      ]
     },
     "execution_count": 13,
     "metadata": {},
     "output_type": "execute_result"
    }
   ],
   "source": [
    "df1"
   ]
  },
  {
   "cell_type": "code",
   "execution_count": 14,
   "metadata": {},
   "outputs": [],
   "source": [
    "df1.to_csv(\"centroids.csv\")"
   ]
  },
  {
   "cell_type": "markdown",
   "metadata": {},
   "source": [
    "## Getting satellite c.6000 photos of Washington D.C"
   ]
  },
  {
   "cell_type": "code",
   "execution_count": 16,
   "metadata": {},
   "outputs": [],
   "source": [
    "#Defining map tiles from coordinates"
   ]
  },
  {
   "cell_type": "code",
   "execution_count": 21,
   "metadata": {},
   "outputs": [],
   "source": [
    "c1=(-77.05166816711426, 38.90733151751689)\n",
    "c2=(-77.01313018798828, 38.89183448892334)"
   ]
  },
  {
   "cell_type": "code",
   "execution_count": 22,
   "metadata": {},
   "outputs": [],
   "source": [
    "gdf = tiles_lister(c1, c2)"
   ]
  },
  {
   "cell_type": "code",
   "execution_count": 23,
   "metadata": {},
   "outputs": [
    {
     "data": {
      "text/html": [
       "<div>\n",
       "<style scoped>\n",
       "    .dataframe tbody tr th:only-of-type {\n",
       "        vertical-align: middle;\n",
       "    }\n",
       "\n",
       "    .dataframe tbody tr th {\n",
       "        vertical-align: top;\n",
       "    }\n",
       "\n",
       "    .dataframe thead th {\n",
       "        text-align: right;\n",
       "    }\n",
       "</style>\n",
       "<table border=\"1\" class=\"dataframe\">\n",
       "  <thead>\n",
       "    <tr style=\"text-align: right;\">\n",
       "      <th></th>\n",
       "      <th>tiles</th>\n",
       "      <th>Longitude</th>\n",
       "      <th>Latitude</th>\n",
       "      <th>geometry</th>\n",
       "    </tr>\n",
       "  </thead>\n",
       "  <tbody>\n",
       "    <tr>\n",
       "      <th>0</th>\n",
       "      <td>[299858, 401090]</td>\n",
       "      <td>-77.051754</td>\n",
       "      <td>38.907465</td>\n",
       "      <td>POINT (-77.05175 38.90747)</td>\n",
       "    </tr>\n",
       "    <tr>\n",
       "      <th>1</th>\n",
       "      <td>[299859, 401090]</td>\n",
       "      <td>-77.051411</td>\n",
       "      <td>38.907465</td>\n",
       "      <td>POINT (-77.05141 38.90747)</td>\n",
       "    </tr>\n",
       "    <tr>\n",
       "      <th>2</th>\n",
       "      <td>[299860, 401090]</td>\n",
       "      <td>-77.051067</td>\n",
       "      <td>38.907465</td>\n",
       "      <td>POINT (-77.05107 38.90747)</td>\n",
       "    </tr>\n",
       "    <tr>\n",
       "      <th>3</th>\n",
       "      <td>[299861, 401090]</td>\n",
       "      <td>-77.050724</td>\n",
       "      <td>38.907465</td>\n",
       "      <td>POINT (-77.05072 38.90747)</td>\n",
       "    </tr>\n",
       "    <tr>\n",
       "      <th>4</th>\n",
       "      <td>[299862, 401090]</td>\n",
       "      <td>-77.050381</td>\n",
       "      <td>38.907465</td>\n",
       "      <td>POINT (-77.05038 38.90747)</td>\n",
       "    </tr>\n",
       "  </tbody>\n",
       "</table>\n",
       "</div>"
      ],
      "text/plain": [
       "              tiles  Longitude   Latitude                    geometry\n",
       "0  [299858, 401090] -77.051754  38.907465  POINT (-77.05175 38.90747)\n",
       "1  [299859, 401090] -77.051411  38.907465  POINT (-77.05141 38.90747)\n",
       "2  [299860, 401090] -77.051067  38.907465  POINT (-77.05107 38.90747)\n",
       "3  [299861, 401090] -77.050724  38.907465  POINT (-77.05072 38.90747)\n",
       "4  [299862, 401090] -77.050381  38.907465  POINT (-77.05038 38.90747)"
      ]
     },
     "execution_count": 23,
     "metadata": {},
     "output_type": "execute_result"
    }
   ],
   "source": [
    "gdf.head()\n"
   ]
  },
  {
   "cell_type": "code",
   "execution_count": 6,
   "metadata": {},
   "outputs": [],
   "source": [
    "# download_tiles(gdf.head(2), \"screenshot\")"
   ]
  },
  {
   "cell_type": "code",
   "execution_count": 8,
   "metadata": {},
   "outputs": [],
   "source": [
    "from geo_functions import num2deg"
   ]
  },
  {
   "cell_type": "code",
   "execution_count": 24,
   "metadata": {},
   "outputs": [],
   "source": [
    "t1, t2 = 299858, 401090"
   ]
  },
  {
   "cell_type": "code",
   "execution_count": 8,
   "metadata": {},
   "outputs": [
    {
     "data": {
      "text/plain": [
       "(-77.05166816711426, 38.90733151751689)"
      ]
     },
     "execution_count": 8,
     "metadata": {},
     "output_type": "execute_result"
    }
   ],
   "source": [
    "c1"
   ]
  },
  {
   "cell_type": "code",
   "execution_count": 31,
   "metadata": {},
   "outputs": [
    {
     "data": {
      "text/plain": [
       "[-77.05175399780273, 38.90746509788696]"
      ]
     },
     "execution_count": 31,
     "metadata": {},
     "output_type": "execute_result"
    }
   ],
   "source": [
    "#punto 1\n",
    "num2deg(t1+0.5, t2+0.5)"
   ]
  },
  {
   "cell_type": "code",
   "execution_count": 34,
   "metadata": {},
   "outputs": [
    {
     "data": {
      "text/plain": [
       "[-77.05158233642578, 38.90746509788696]"
      ]
     },
     "execution_count": 34,
     "metadata": {},
     "output_type": "execute_result"
    }
   ],
   "source": [
    "num2deg(t1+0.5+0.5, t2+0.5)"
   ]
  },
  {
   "cell_type": "code",
   "execution_count": 36,
   "metadata": {},
   "outputs": [
    {
     "data": {
      "text/plain": [
       "[-77.05158233642578, 38.90746509788696]"
      ]
     },
     "execution_count": 36,
     "metadata": {},
     "output_type": "execute_result"
    }
   ],
   "source": [
    "num2deg(t1+0.5+1-0.5, t2+0.5)"
   ]
  },
  {
   "cell_type": "code",
   "execution_count": 33,
   "metadata": {},
   "outputs": [
    {
     "data": {
      "text/plain": [
       "[-77.05141067504883, 38.90746509788696]"
      ]
     },
     "execution_count": 33,
     "metadata": {},
     "output_type": "execute_result"
    }
   ],
   "source": [
    "#punto 2\n",
    "num2deg(t1+0.5+1, t2+0.5)"
   ]
  },
  {
   "cell_type": "code",
   "execution_count": 22,
   "metadata": {},
   "outputs": [
    {
     "data": {
      "text/plain": [
       "[-77.05141067504883, 38.90746509788696]"
      ]
     },
     "execution_count": 22,
     "metadata": {},
     "output_type": "execute_result"
    }
   ],
   "source": [
    "num2deg(c1+1-0.5, c2+0.5)"
   ]
  },
  {
   "cell_type": "code",
   "execution_count": 23,
   "metadata": {},
   "outputs": [],
   "source": [
    "coords = num2deg(c1,c2)"
   ]
  },
  {
   "cell_type": "code",
   "execution_count": 24,
   "metadata": {},
   "outputs": [
    {
     "data": {
      "text/plain": [
       "-77.05192565917969"
      ]
     },
     "execution_count": 24,
     "metadata": {},
     "output_type": "execute_result"
    }
   ],
   "source": [
    "coords[0]"
   ]
  },
  {
   "cell_type": "code",
   "execution_count": 4,
   "metadata": {},
   "outputs": [
    {
     "ename": "NameError",
     "evalue": "name 'c1' is not defined",
     "output_type": "error",
     "traceback": [
      "\u001b[0;31m---------------------------------------------------------------------------\u001b[0m",
      "\u001b[0;31mNameError\u001b[0m                                 Traceback (most recent call last)",
      "\u001b[0;32m<ipython-input-4-1ebc21b17edd>\u001b[0m in \u001b[0;36m<module>\u001b[0;34m\u001b[0m\n\u001b[0;32m----> 1\u001b[0;31m \u001b[0mchosen_tiles\u001b[0m \u001b[0;34m=\u001b[0m \u001b[0mdeg2num\u001b[0m\u001b[0;34m(\u001b[0m\u001b[0;34m*\u001b[0m\u001b[0mc1\u001b[0m\u001b[0;34m)\u001b[0m\u001b[0;34m,\u001b[0m \u001b[0mdeg2num\u001b[0m\u001b[0;34m(\u001b[0m\u001b[0;34m*\u001b[0m\u001b[0mc2\u001b[0m\u001b[0;34m)\u001b[0m\u001b[0;34m\u001b[0m\u001b[0;34m\u001b[0m\u001b[0m\n\u001b[0m\u001b[1;32m      2\u001b[0m \u001b[0mtiles\u001b[0m \u001b[0;34m=\u001b[0m \u001b[0;34m[\u001b[0m\u001b[0;34m]\u001b[0m\u001b[0;34m\u001b[0m\u001b[0;34m\u001b[0m\u001b[0m\n\u001b[1;32m      3\u001b[0m \u001b[0mlongitudes\u001b[0m \u001b[0;34m=\u001b[0m \u001b[0;34m[\u001b[0m\u001b[0;34m]\u001b[0m\u001b[0;34m\u001b[0m\u001b[0;34m\u001b[0m\u001b[0m\n\u001b[1;32m      4\u001b[0m \u001b[0mlatitudes\u001b[0m \u001b[0;34m=\u001b[0m \u001b[0;34m[\u001b[0m\u001b[0;34m]\u001b[0m\u001b[0;34m\u001b[0m\u001b[0;34m\u001b[0m\u001b[0m\n\u001b[1;32m      5\u001b[0m \u001b[0;32mfor\u001b[0m \u001b[0mi\u001b[0m \u001b[0;32min\u001b[0m \u001b[0mrange\u001b[0m\u001b[0;34m(\u001b[0m\u001b[0mchosen_tiles\u001b[0m\u001b[0;34m[\u001b[0m\u001b[0;36m0\u001b[0m\u001b[0;34m]\u001b[0m\u001b[0;34m[\u001b[0m\u001b[0;36m1\u001b[0m\u001b[0;34m]\u001b[0m\u001b[0;34m,\u001b[0m \u001b[0mchosen_tiles\u001b[0m\u001b[0;34m[\u001b[0m\u001b[0;36m1\u001b[0m\u001b[0;34m]\u001b[0m\u001b[0;34m[\u001b[0m\u001b[0;36m1\u001b[0m\u001b[0;34m]\u001b[0m\u001b[0;34m)\u001b[0m\u001b[0;34m:\u001b[0m\u001b[0;34m\u001b[0m\u001b[0;34m\u001b[0m\u001b[0m\n",
      "\u001b[0;31mNameError\u001b[0m: name 'c1' is not defined"
     ]
    }
   ],
   "source": [
    "chosen_tiles = deg2num(*c1), deg2num(*c2)\n",
    "tiles = []\n",
    "longitudes = []\n",
    "latitudes = []\n",
    "for i in range(chosen_tiles[0][1], chosen_tiles[1][1]):\n",
    "    for j in range(chosen_tiles[0][0], chosen_tiles[1][0]):\n",
    "        tiles.append([j, i])\n",
    "        coords = num2deg(j+0.5, i+0.5)\n",
    "        longitudes.append(coords[0])\n",
    "        latitudes.append(coords[1])\n",
    "df = pd.DataFrame(data={'tiles': tiles, 'Longitude': longitudes, 'Latitude': latitudes})\n",
    "gdf = gpd.GeoDataFrame(\n",
    "    df, geometry=gpd.points_from_xy(df.Longitude, df.Latitude))\n"
   ]
  },
  {
   "cell_type": "code",
   "execution_count": 59,
   "metadata": {},
   "outputs": [
    {
     "ename": "ModuleNotFoundError",
     "evalue": "No module named 'geo_functbions'",
     "output_type": "error",
     "traceback": [
      "\u001b[0;31m---------------------------------------------------------------------------\u001b[0m",
      "\u001b[0;31mModuleNotFoundError\u001b[0m                       Traceback (most recent call last)",
      "\u001b[0;32m<ipython-input-59-a5fb153e823b>\u001b[0m in \u001b[0;36m<module>\u001b[0;34m\u001b[0m\n\u001b[0;32m----> 1\u001b[0;31m \u001b[0;32mfrom\u001b[0m \u001b[0mgeo_functbions\u001b[0m \u001b[0;32mimport\u001b[0m \u001b[0mdeg2num\u001b[0m\u001b[0;34m\u001b[0m\u001b[0;34m\u001b[0m\u001b[0m\n\u001b[0m",
      "\u001b[0;31mModuleNotFoundError\u001b[0m: No module named 'geo_functbions'"
     ]
    }
   ],
   "source": [
    "from geo_functbions import deg2num"
   ]
  },
  {
   "cell_type": "code",
   "execution_count": 70,
   "metadata": {},
   "outputs": [
    {
     "data": {
      "text/plain": [
       "[-77.05192565917969, 38.907598678005705]"
      ]
     },
     "execution_count": 70,
     "metadata": {},
     "output_type": "execute_result"
    }
   ],
   "source": [
    "tile1 = [299858, 401090]\n",
    "tile2 = [299859, 401090]\n",
    "num2deg(299858, 401090)"
   ]
  },
  {
   "cell_type": "code",
   "execution_count": 73,
   "metadata": {},
   "outputs": [],
   "source": [
    "#Cuadrado 1\n",
    "nw = num2deg(tile1[0], tile1[1])\n",
    "ne = num2deg(tile1[0]+1, tile1[1])\n",
    "sw = num2deg(tile1[0], tile1[1]+1)\n",
    "se = num2deg(tile1[0]+1, tile1[1]+1)\n",
    "c1 = num2deg(tile1[0]+0.5, tile1[1]+0.5)"
   ]
  },
  {
   "cell_type": "code",
   "execution_count": 74,
   "metadata": {},
   "outputs": [
    {
     "data": {
      "text/plain": [
       "([-77.05192565917969, 38.907598678005705],\n",
       " [-77.05158233642578, 38.907598678005705],\n",
       " [-77.05192565917969, 38.907331517516866],\n",
       " [-77.05158233642578, 38.907331517516866],\n",
       " [-77.05175399780273, 38.90746509788696])"
      ]
     },
     "execution_count": 74,
     "metadata": {},
     "output_type": "execute_result"
    }
   ],
   "source": [
    "square1 = (nw, ne, sw, se, c1)\n",
    "square1"
   ]
  },
  {
   "cell_type": "code",
   "execution_count": 86,
   "metadata": {},
   "outputs": [],
   "source": [
    "#Cuadrado 2\n",
    "nw2 = num2deg(tile2[0], tile2[1])\n",
    "ne2 = num2deg(tile2[0]+1, tile2[1])\n",
    "sw2 = num2deg(tile2[0], tile2[1]+1)\n",
    "se2 = num2deg(tile2[0]+1, tile2[1]+1)\n",
    "c2 = num2deg(tile2[0]+0.5, tile2[1]+0.5)"
   ]
  },
  {
   "cell_type": "code",
   "execution_count": 87,
   "metadata": {},
   "outputs": [
    {
     "data": {
      "text/plain": [
       "([-77.05158233642578, 38.907598678005705],\n",
       " [-77.05123901367188, 38.907598678005705],\n",
       " [-77.05158233642578, 38.907331517516866],\n",
       " [-77.05123901367188, 38.907331517516866],\n",
       " [-77.05141067504883, 38.90746509788696])"
      ]
     },
     "execution_count": 87,
     "metadata": {},
     "output_type": "execute_result"
    }
   ],
   "source": [
    "square2 = (nw2, ne2, sw2, se2, c2)\n",
    "square2"
   ]
  },
  {
   "cell_type": "code",
   "execution_count": 83,
   "metadata": {},
   "outputs": [],
   "source": [
    "import folium"
   ]
  },
  {
   "cell_type": "code",
   "execution_count": 84,
   "metadata": {},
   "outputs": [],
   "source": [
    "# Make a data frame with dots to show on the map\n",
    "data = pd.DataFrame({\n",
    "'lat':[e[0] for e in square1],\n",
    "'lon':[e[1] for e in square1],\n",
    "'name': [\"nw\", \"ne\", \"sw\", \"se\", \"c1\"]\n",
    "})\n",
    "data2 = pd.DataFrame({\n",
    "'lat':[e[0] for e in square2],\n",
    "'lon':[e[1] for e in square2],\n",
    "'name': [\"nw2\", \"ne2\", \"sw2\", \"se2\", \"c2\"]\n",
    "})\n",
    "\n",
    "# Make an empty map\n",
    "m = folium.Map(location=[20, 0], tiles=\"Mapbox Bright\", zoom_start=2)\n",
    "\n",
    "# I can add marker one by one on the map\n",
    "for i in range(0,len(data)):\n",
    "    folium.Marker([data.iloc[i]['lon'], data.iloc[i]['lat']], popup=data.iloc[i]['name']).add_to(m)\n",
    "for i in range(0,len(data2)):\n",
    "    folium.Marker([data2.iloc[i]['lon'], data2.iloc[i]['lat']], popup=data2.iloc[i]['name']).add_to(m)\n",
    "# Save it as html\n",
    "m.save('312_markers_on_folium_map1.html')"
   ]
  },
  {
   "cell_type": "code",
   "execution_count": 85,
   "metadata": {},
   "outputs": [
    {
     "data": {
      "text/html": [
       "<div style=\"width:100%;\"><div style=\"position:relative;width:100%;height:0;padding-bottom:60%;\"><iframe src=\"data:text/html;charset=utf-8;base64,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\" style=\"position:absolute;width:100%;height:100%;left:0;top:0;border:none !important;\" allowfullscreen webkitallowfullscreen mozallowfullscreen></iframe></div></div>"
      ],
      "text/plain": [
       "<folium.folium.Map at 0x7f8a84fdc7f0>"
      ]
     },
     "execution_count": 85,
     "metadata": {},
     "output_type": "execute_result"
    }
   ],
   "source": [
    "m"
   ]
  },
  {
   "cell_type": "code",
   "execution_count": 67,
   "metadata": {},
   "outputs": [],
   "source": []
  },
  {
   "cell_type": "code",
   "execution_count": 68,
   "metadata": {},
   "outputs": [
    {
     "data": {
      "text/plain": [
       "([-77.05158233642578, 60.78815967706216],\n",
       " [-77.05123901367188, 60.78815967706216],\n",
       " [-77.05158233642578, 60.787992121373335],\n",
       " [-77.05123901367188, 60.787992121373335],\n",
       " (-77.01313018798828, 38.89183448892334))"
      ]
     },
     "execution_count": 68,
     "metadata": {},
     "output_type": "execute_result"
    }
   ],
   "source": []
  },
  {
   "cell_type": "code",
   "execution_count": 69,
   "metadata": {},
   "outputs": [
    {
     "data": {
      "text/html": [
       "<div style=\"width:100%;\"><div style=\"position:relative;width:100%;height:0;padding-bottom:60%;\"><iframe src=\"data:text/html;charset=utf-8;base64,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\" style=\"position:absolute;width:100%;height:100%;left:0;top:0;border:none !important;\" allowfullscreen webkitallowfullscreen mozallowfullscreen></iframe></div></div>"
      ],
      "text/plain": [
       "<folium.folium.Map at 0x7f8a84d91400>"
      ]
     },
     "execution_count": 69,
     "metadata": {},
     "output_type": "execute_result"
    }
   ],
   "source": [
    "# Make a data frame with dots to show on the map\n",
    "data = pd.DataFrame({\n",
    "'lat':[e[0] for e in square2],\n",
    "'lon':[e[1] for e in square2],\n",
    "'name': [\"nw2\", \"ne2\", \"sw2\", \"se2\", \"c12\"]\n",
    "})\n",
    "data\n",
    "\n",
    "# Make an empty map\n",
    "m = folium.Map(location=[20, 0], tiles=\"Mapbox Bright\", zoom_start=2)\n",
    "\n",
    "# I can add marker one by one on the map\n",
    "for i in range(0,len(data)):\n",
    "    folium.Marker([data.iloc[i]['lon'], data.iloc[i]['lat']], popup=data.iloc[i]['name']).add_to(m)\n",
    "\n",
    "# Save it as html\n",
    "m.save('312_markers_on_folium_map1.html')\n",
    "m"
   ]
  },
  {
   "cell_type": "code",
   "execution_count": null,
   "metadata": {},
   "outputs": [],
   "source": []
  }
 ],
 "metadata": {
  "kernelspec": {
   "display_name": "Python 3",
   "language": "python",
   "name": "python3"
  },
  "language_info": {
   "codemirror_mode": {
    "name": "ipython",
    "version": 3
   },
   "file_extension": ".py",
   "mimetype": "text/x-python",
   "name": "python",
   "nbconvert_exporter": "python",
   "pygments_lexer": "ipython3",
   "version": "3.6.8"
  }
 },
 "nbformat": 4,
 "nbformat_minor": 2
}
