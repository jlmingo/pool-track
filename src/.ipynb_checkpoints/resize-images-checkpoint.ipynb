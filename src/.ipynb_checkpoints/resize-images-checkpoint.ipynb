{
 "cells": [
  {
   "cell_type": "code",
   "execution_count": 44,
   "metadata": {},
   "outputs": [],
   "source": [
    "from PIL import Image, ImageOps\n",
    "from resizeimage import resizeimage\n",
    "from os import listdir\n",
    "from os.path import isfile, join\n",
    "\n",
    "path = '../input-ignore/pools-washington-clean/'\n",
    "new_path = '../input-ignore/pools-dataset-256x256'\n",
    "onlyfiles = [f for f in listdir(path) if isfile(join(path, f))]\n",
    "onlyfiles\n",
    "\n",
    "#resizing all images to 256x256\n",
    "\n",
    "for files in onlyfiles:\n",
    "    with open(join(path, files),'r+b') as f:\n",
    "        with Image.open(f) as image:\n",
    "            cover = resizeimage.resize_cover(image, [256, 256])\n",
    "            cover.save(os.path.join(new_path, files[:-4])+\"-256x256.png\", image.format)\n",
    "\n"
   ]
  },
  {
   "cell_type": "code",
   "execution_count": 46,
   "metadata": {},
   "outputs": [],
   "source": [
    "#mirroring all images\n",
    "onlyfiles = [f for f in listdir(new_path) if isfile(join(new_path, f))]\n",
    "onlyfiles\n",
    "for files in onlyfiles:\n",
    "    with open(join(new_path, files),'r+b') as f:\n",
    "        with Image.open(f) as image:\n",
    "            image = ImageOps.mirror(image)\n",
    "            image.save(os.path.join(new_path, files[:-4])+\"_mirror.png\", image.format)\n"
   ]
  }
 ],
 "metadata": {
  "kernelspec": {
   "display_name": "Python 3",
   "language": "python",
   "name": "python3"
  },
  "language_info": {
   "codemirror_mode": {
    "name": "ipython",
    "version": 3
   },
   "file_extension": ".py",
   "mimetype": "text/x-python",
   "name": "python",
   "nbconvert_exporter": "python",
   "pygments_lexer": "ipython3",
   "version": "3.6.8"
  }
 },
 "nbformat": 4,
 "nbformat_minor": 2
}
