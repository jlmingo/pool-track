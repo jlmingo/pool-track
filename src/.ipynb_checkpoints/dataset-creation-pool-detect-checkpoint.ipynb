{
 "cells": [
  {
   "cell_type": "code",
   "execution_count": 1,
   "metadata": {},
   "outputs": [],
   "source": [
    "import geopandas as gpd\n",
    "import requests\n",
    "import os \n",
    "from dotenv import load_dotenv\n",
    "import urllib\n",
    "from geo_functions import nTiles, num2deg, deg2num\n",
    "import pandas as pd\n",
    "import numpy as np"
   ]
  },
  {
   "cell_type": "code",
   "execution_count": 2,
   "metadata": {},
   "outputs": [],
   "source": [
    "gdf = gpd.read_file(\"/home/jorgelm/data-projects/prework-pool-detection/Swimming_Pools_2015/Swimming_Pools_2015.shp\")"
   ]
  },
  {
   "cell_type": "code",
   "execution_count": 3,
   "metadata": {},
   "outputs": [],
   "source": [
    "gdf['centroid'] = gdf['geometry'].centroid"
   ]
  },
  {
   "cell_type": "code",
   "execution_count": 12,
   "metadata": {},
   "outputs": [],
   "source": [
    "load_dotenv()\n",
    "key = 'GOOGLETOKEN'\n",
    "value = os.getenv(key) "
   ]
  },
  {
   "cell_type": "code",
   "execution_count": 24,
   "metadata": {},
   "outputs": [],
   "source": [
    "y_coord= gdf.centroid[0].y\n",
    "x_coord = gdf.centroid[0].x\n",
    "# res = requests.get(f\"https://maps.googleapis.com/maps/api/staticmap?center=y,x&zoom=20&size=400x400&maptype=satellite&key={value}\")"
   ]
  },
  {
   "cell_type": "code",
   "execution_count": 40,
   "metadata": {},
   "outputs": [],
   "source": [
    "import urllib.request\n",
    "\n",
    "\n",
    "def downloader(image_url, i):\n",
    "    file_name = \"pool-\"+ str(i) + '.png'\n",
    "    urllib.request.urlretrieve(image_url,file_name)\n",
    "\n",
    "## The below downloads \n",
    "# downloader(f\"https://maps.googleapis.com/maps/api/staticmap?center={y_coord},{x_coord}&zoom=20&size=400x400&maptype=satellite&key={value}\")"
   ]
  },
  {
   "cell_type": "code",
   "execution_count": null,
   "metadata": {},
   "outputs": [],
   "source": [
    "# Download all Washington pools, commented to avoid executing\n",
    "# for index, row in gdf.iterrows():\n",
    "#     y_coord= row.centroid.y\n",
    "#     x_coord = row.centroid.x\n",
    "#     url = f\"https://maps.googleapis.com/maps/api/staticmap?center={y_coord},{x_coord}&zoom=20&size=400x400&maptype=satellite&key={value}\"\n",
    "#     downloader(url, index)"
   ]
  },
  {
   "cell_type": "code",
   "execution_count": 43,
   "metadata": {},
   "outputs": [],
   "source": [
    "#Centroid coordinates"
   ]
  },
  {
   "cell_type": "code",
   "execution_count": 9,
   "metadata": {},
   "outputs": [],
   "source": [
    "gdf[\"centroid_export\"] = gdf.centroid.apply(lambda row: (row.x, row.y))"
   ]
  },
  {
   "cell_type": "code",
   "execution_count": 11,
   "metadata": {},
   "outputs": [],
   "source": []
  },
  {
   "cell_type": "code",
   "execution_count": 12,
   "metadata": {},
   "outputs": [],
   "source": [
    "df1 = pd.DataFrame(gdf.centroid_export)"
   ]
  },
  {
   "cell_type": "code",
   "execution_count": 13,
   "metadata": {},
   "outputs": [
    {
     "data": {
      "text/html": [
       "<div>\n",
       "<style scoped>\n",
       "    .dataframe tbody tr th:only-of-type {\n",
       "        vertical-align: middle;\n",
       "    }\n",
       "\n",
       "    .dataframe tbody tr th {\n",
       "        vertical-align: top;\n",
       "    }\n",
       "\n",
       "    .dataframe thead th {\n",
       "        text-align: right;\n",
       "    }\n",
       "</style>\n",
       "<table border=\"1\" class=\"dataframe\">\n",
       "  <thead>\n",
       "    <tr style=\"text-align: right;\">\n",
       "      <th></th>\n",
       "      <th>centroid_export</th>\n",
       "    </tr>\n",
       "  </thead>\n",
       "  <tbody>\n",
       "    <tr>\n",
       "      <th>0</th>\n",
       "      <td>(-77.0378993859784, 38.98679513772656)</td>\n",
       "    </tr>\n",
       "    <tr>\n",
       "      <th>1</th>\n",
       "      <td>(-77.0382505072557, 38.98663581028714)</td>\n",
       "    </tr>\n",
       "    <tr>\n",
       "      <th>2</th>\n",
       "      <td>(-77.0411109570142, 38.98644830105077)</td>\n",
       "    </tr>\n",
       "    <tr>\n",
       "      <th>3</th>\n",
       "      <td>(-77.03730924321326, 38.98625899748525)</td>\n",
       "    </tr>\n",
       "    <tr>\n",
       "      <th>4</th>\n",
       "      <td>(-77.03785329572912, 38.98629794946241)</td>\n",
       "    </tr>\n",
       "    <tr>\n",
       "      <th>...</th>\n",
       "      <td>...</td>\n",
       "    </tr>\n",
       "    <tr>\n",
       "      <th>1612</th>\n",
       "      <td>(-77.00976534197933, 38.82265014722453)</td>\n",
       "    </tr>\n",
       "    <tr>\n",
       "      <th>1613</th>\n",
       "      <td>(-77.00833802868878, 38.82261431077552)</td>\n",
       "    </tr>\n",
       "    <tr>\n",
       "      <th>1614</th>\n",
       "      <td>(-77.00844052988481, 38.822476964558625)</td>\n",
       "    </tr>\n",
       "    <tr>\n",
       "      <th>1615</th>\n",
       "      <td>(-77.00965828520242, 38.82241530417863)</td>\n",
       "    </tr>\n",
       "    <tr>\n",
       "      <th>1616</th>\n",
       "      <td>(-77.01346207707968, 38.81602552376429)</td>\n",
       "    </tr>\n",
       "  </tbody>\n",
       "</table>\n",
       "<p>1617 rows × 1 columns</p>\n",
       "</div>"
      ],
      "text/plain": [
       "                               centroid_export\n",
       "0       (-77.0378993859784, 38.98679513772656)\n",
       "1       (-77.0382505072557, 38.98663581028714)\n",
       "2       (-77.0411109570142, 38.98644830105077)\n",
       "3      (-77.03730924321326, 38.98625899748525)\n",
       "4      (-77.03785329572912, 38.98629794946241)\n",
       "...                                        ...\n",
       "1612   (-77.00976534197933, 38.82265014722453)\n",
       "1613   (-77.00833802868878, 38.82261431077552)\n",
       "1614  (-77.00844052988481, 38.822476964558625)\n",
       "1615   (-77.00965828520242, 38.82241530417863)\n",
       "1616   (-77.01346207707968, 38.81602552376429)\n",
       "\n",
       "[1617 rows x 1 columns]"
      ]
     },
     "execution_count": 13,
     "metadata": {},
     "output_type": "execute_result"
    }
   ],
   "source": [
    "df1"
   ]
  },
  {
   "cell_type": "code",
   "execution_count": 14,
   "metadata": {},
   "outputs": [],
   "source": [
    "df1.to_csv(\"centroids.csv\")"
   ]
  },
  {
   "cell_type": "markdown",
   "metadata": {},
   "source": [
    "## Getting satellite c.6000 photos of Washington D.C"
   ]
  },
  {
   "cell_type": "code",
   "execution_count": 16,
   "metadata": {},
   "outputs": [],
   "source": [
    "#Defining map tiles from coordinates"
   ]
  },
  {
   "cell_type": "code",
   "execution_count": 3,
   "metadata": {},
   "outputs": [
    {
     "data": {
      "text/plain": [
       "6554"
      ]
     },
     "execution_count": 3,
     "metadata": {},
     "output_type": "execute_result"
    }
   ],
   "source": [
    "c1=(-77.05166816711426, 38.90733151751689)\n",
    "c2=(-77.01313018798828, 38.89183448892334)\n",
    "tiles = nTiles(c1, c2)\n",
    "tiles"
   ]
  },
  {
   "cell_type": "code",
   "execution_count": 4,
   "metadata": {},
   "outputs": [],
   "source": [
    "chosen_tiles = deg2num(*c1), deg2num(*c2)"
   ]
  },
  {
   "cell_type": "code",
   "execution_count": 5,
   "metadata": {},
   "outputs": [
    {
     "name": "stdout",
     "output_type": "stream",
     "text": [
      "[-77.01330184936523, 38.89223531674779]\n"
     ]
    }
   ],
   "source": [
    "tiles = []\n",
    "longitudes = []\n",
    "latitudes = []\n",
    "for i in range(chosen_tiles[0][1], chosen_tiles[1][1]):\n",
    "    for j in range(chosen_tiles[0][0], chosen_tiles[1][0]):\n",
    "        tiles.append([j, i])\n",
    "        coords = num2deg(j+0.5, i+0.5)\n",
    "        longitudes.append(coords[0])\n",
    "        latitudes.append(coords[1])\n",
    "print(coords)"
   ]
  },
  {
   "cell_type": "code",
   "execution_count": 6,
   "metadata": {},
   "outputs": [
    {
     "data": {
      "text/html": [
       "<div>\n",
       "<style scoped>\n",
       "    .dataframe tbody tr th:only-of-type {\n",
       "        vertical-align: middle;\n",
       "    }\n",
       "\n",
       "    .dataframe tbody tr th {\n",
       "        vertical-align: top;\n",
       "    }\n",
       "\n",
       "    .dataframe thead th {\n",
       "        text-align: right;\n",
       "    }\n",
       "</style>\n",
       "<table border=\"1\" class=\"dataframe\">\n",
       "  <thead>\n",
       "    <tr style=\"text-align: right;\">\n",
       "      <th></th>\n",
       "      <th>tiles</th>\n",
       "      <th>Longitude</th>\n",
       "      <th>Latitude</th>\n",
       "    </tr>\n",
       "  </thead>\n",
       "  <tbody>\n",
       "    <tr>\n",
       "      <th>0</th>\n",
       "      <td>[299858, 401090]</td>\n",
       "      <td>-77.051754</td>\n",
       "      <td>38.907465</td>\n",
       "    </tr>\n",
       "    <tr>\n",
       "      <th>1</th>\n",
       "      <td>[299859, 401090]</td>\n",
       "      <td>-77.051411</td>\n",
       "      <td>38.907465</td>\n",
       "    </tr>\n",
       "    <tr>\n",
       "      <th>2</th>\n",
       "      <td>[299860, 401090]</td>\n",
       "      <td>-77.051067</td>\n",
       "      <td>38.907465</td>\n",
       "    </tr>\n",
       "    <tr>\n",
       "      <th>3</th>\n",
       "      <td>[299861, 401090]</td>\n",
       "      <td>-77.050724</td>\n",
       "      <td>38.907465</td>\n",
       "    </tr>\n",
       "    <tr>\n",
       "      <th>4</th>\n",
       "      <td>[299862, 401090]</td>\n",
       "      <td>-77.050381</td>\n",
       "      <td>38.907465</td>\n",
       "    </tr>\n",
       "    <tr>\n",
       "      <th>...</th>\n",
       "      <td>...</td>\n",
       "      <td>...</td>\n",
       "      <td>...</td>\n",
       "    </tr>\n",
       "    <tr>\n",
       "      <th>6549</th>\n",
       "      <td>[299966, 401147]</td>\n",
       "      <td>-77.014675</td>\n",
       "      <td>38.892235</td>\n",
       "    </tr>\n",
       "    <tr>\n",
       "      <th>6550</th>\n",
       "      <td>[299967, 401147]</td>\n",
       "      <td>-77.014332</td>\n",
       "      <td>38.892235</td>\n",
       "    </tr>\n",
       "    <tr>\n",
       "      <th>6551</th>\n",
       "      <td>[299968, 401147]</td>\n",
       "      <td>-77.013988</td>\n",
       "      <td>38.892235</td>\n",
       "    </tr>\n",
       "    <tr>\n",
       "      <th>6552</th>\n",
       "      <td>[299969, 401147]</td>\n",
       "      <td>-77.013645</td>\n",
       "      <td>38.892235</td>\n",
       "    </tr>\n",
       "    <tr>\n",
       "      <th>6553</th>\n",
       "      <td>[299970, 401147]</td>\n",
       "      <td>-77.013302</td>\n",
       "      <td>38.892235</td>\n",
       "    </tr>\n",
       "  </tbody>\n",
       "</table>\n",
       "<p>6554 rows × 3 columns</p>\n",
       "</div>"
      ],
      "text/plain": [
       "                 tiles  Longitude   Latitude\n",
       "0     [299858, 401090] -77.051754  38.907465\n",
       "1     [299859, 401090] -77.051411  38.907465\n",
       "2     [299860, 401090] -77.051067  38.907465\n",
       "3     [299861, 401090] -77.050724  38.907465\n",
       "4     [299862, 401090] -77.050381  38.907465\n",
       "...                ...        ...        ...\n",
       "6549  [299966, 401147] -77.014675  38.892235\n",
       "6550  [299967, 401147] -77.014332  38.892235\n",
       "6551  [299968, 401147] -77.013988  38.892235\n",
       "6552  [299969, 401147] -77.013645  38.892235\n",
       "6553  [299970, 401147] -77.013302  38.892235\n",
       "\n",
       "[6554 rows x 3 columns]"
      ]
     },
     "execution_count": 6,
     "metadata": {},
     "output_type": "execute_result"
    }
   ],
   "source": [
    "df = pd.DataFrame(data={'tiles': tiles, 'Longitude': longitudes, 'Latitude': latitudes})\n",
    "df"
   ]
  },
  {
   "cell_type": "code",
   "execution_count": 9,
   "metadata": {},
   "outputs": [
    {
     "data": {
      "text/html": [
       "<div>\n",
       "<style scoped>\n",
       "    .dataframe tbody tr th:only-of-type {\n",
       "        vertical-align: middle;\n",
       "    }\n",
       "\n",
       "    .dataframe tbody tr th {\n",
       "        vertical-align: top;\n",
       "    }\n",
       "\n",
       "    .dataframe thead th {\n",
       "        text-align: right;\n",
       "    }\n",
       "</style>\n",
       "<table border=\"1\" class=\"dataframe\">\n",
       "  <thead>\n",
       "    <tr style=\"text-align: right;\">\n",
       "      <th></th>\n",
       "      <th>tiles</th>\n",
       "      <th>Longitude</th>\n",
       "      <th>Latitude</th>\n",
       "      <th>geometry</th>\n",
       "    </tr>\n",
       "  </thead>\n",
       "  <tbody>\n",
       "    <tr>\n",
       "      <th>0</th>\n",
       "      <td>[299858, 401090]</td>\n",
       "      <td>-77.051754</td>\n",
       "      <td>38.907465</td>\n",
       "      <td>POINT (-77.05175 38.90747)</td>\n",
       "    </tr>\n",
       "    <tr>\n",
       "      <th>1</th>\n",
       "      <td>[299859, 401090]</td>\n",
       "      <td>-77.051411</td>\n",
       "      <td>38.907465</td>\n",
       "      <td>POINT (-77.05141 38.90747)</td>\n",
       "    </tr>\n",
       "    <tr>\n",
       "      <th>2</th>\n",
       "      <td>[299860, 401090]</td>\n",
       "      <td>-77.051067</td>\n",
       "      <td>38.907465</td>\n",
       "      <td>POINT (-77.05107 38.90747)</td>\n",
       "    </tr>\n",
       "    <tr>\n",
       "      <th>3</th>\n",
       "      <td>[299861, 401090]</td>\n",
       "      <td>-77.050724</td>\n",
       "      <td>38.907465</td>\n",
       "      <td>POINT (-77.05072 38.90747)</td>\n",
       "    </tr>\n",
       "    <tr>\n",
       "      <th>4</th>\n",
       "      <td>[299862, 401090]</td>\n",
       "      <td>-77.050381</td>\n",
       "      <td>38.907465</td>\n",
       "      <td>POINT (-77.05038 38.90747)</td>\n",
       "    </tr>\n",
       "    <tr>\n",
       "      <th>...</th>\n",
       "      <td>...</td>\n",
       "      <td>...</td>\n",
       "      <td>...</td>\n",
       "      <td>...</td>\n",
       "    </tr>\n",
       "    <tr>\n",
       "      <th>6549</th>\n",
       "      <td>[299966, 401147]</td>\n",
       "      <td>-77.014675</td>\n",
       "      <td>38.892235</td>\n",
       "      <td>POINT (-77.01468 38.89224)</td>\n",
       "    </tr>\n",
       "    <tr>\n",
       "      <th>6550</th>\n",
       "      <td>[299967, 401147]</td>\n",
       "      <td>-77.014332</td>\n",
       "      <td>38.892235</td>\n",
       "      <td>POINT (-77.01433 38.89224)</td>\n",
       "    </tr>\n",
       "    <tr>\n",
       "      <th>6551</th>\n",
       "      <td>[299968, 401147]</td>\n",
       "      <td>-77.013988</td>\n",
       "      <td>38.892235</td>\n",
       "      <td>POINT (-77.01399 38.89224)</td>\n",
       "    </tr>\n",
       "    <tr>\n",
       "      <th>6552</th>\n",
       "      <td>[299969, 401147]</td>\n",
       "      <td>-77.013645</td>\n",
       "      <td>38.892235</td>\n",
       "      <td>POINT (-77.01365 38.89224)</td>\n",
       "    </tr>\n",
       "    <tr>\n",
       "      <th>6553</th>\n",
       "      <td>[299970, 401147]</td>\n",
       "      <td>-77.013302</td>\n",
       "      <td>38.892235</td>\n",
       "      <td>POINT (-77.01330 38.89224)</td>\n",
       "    </tr>\n",
       "  </tbody>\n",
       "</table>\n",
       "<p>6554 rows × 4 columns</p>\n",
       "</div>"
      ],
      "text/plain": [
       "                 tiles  Longitude   Latitude                    geometry\n",
       "0     [299858, 401090] -77.051754  38.907465  POINT (-77.05175 38.90747)\n",
       "1     [299859, 401090] -77.051411  38.907465  POINT (-77.05141 38.90747)\n",
       "2     [299860, 401090] -77.051067  38.907465  POINT (-77.05107 38.90747)\n",
       "3     [299861, 401090] -77.050724  38.907465  POINT (-77.05072 38.90747)\n",
       "4     [299862, 401090] -77.050381  38.907465  POINT (-77.05038 38.90747)\n",
       "...                ...        ...        ...                         ...\n",
       "6549  [299966, 401147] -77.014675  38.892235  POINT (-77.01468 38.89224)\n",
       "6550  [299967, 401147] -77.014332  38.892235  POINT (-77.01433 38.89224)\n",
       "6551  [299968, 401147] -77.013988  38.892235  POINT (-77.01399 38.89224)\n",
       "6552  [299969, 401147] -77.013645  38.892235  POINT (-77.01365 38.89224)\n",
       "6553  [299970, 401147] -77.013302  38.892235  POINT (-77.01330 38.89224)\n",
       "\n",
       "[6554 rows x 4 columns]"
      ]
     },
     "execution_count": 9,
     "metadata": {},
     "output_type": "execute_result"
    }
   ],
   "source": [
    "gdf = gpd.GeoDataFrame(\n",
    "    df, geometry=gpd.points_from_xy(df.Longitude, df.Latitude))\n",
    "gdf"
   ]
  },
  {
   "cell_type": "code",
   "execution_count": 15,
   "metadata": {},
   "outputs": [
    {
     "data": {
      "text/plain": [
       "6554"
      ]
     },
     "execution_count": 15,
     "metadata": {},
     "output_type": "execute_result"
    }
   ],
   "source": [
    "+(401148-401090)*(299971-299858)"
   ]
  },
  {
   "cell_type": "code",
   "execution_count": 13,
   "metadata": {},
   "outputs": [
    {
     "ename": "AttributeError",
     "evalue": "'Point' object has no attribute 'latitude'",
     "output_type": "error",
     "traceback": [
      "\u001b[0;31m---------------------------------------------------------------------------\u001b[0m",
      "\u001b[0;31mAttributeError\u001b[0m                            Traceback (most recent call last)",
      "\u001b[0;32m<ipython-input-13-0ddd6cd5204b>\u001b[0m in \u001b[0;36m<module>\u001b[0;34m\u001b[0m\n\u001b[0;32m----> 1\u001b[0;31m \u001b[0mgdf\u001b[0m\u001b[0;34m.\u001b[0m\u001b[0mgeometry\u001b[0m\u001b[0;34m[\u001b[0m\u001b[0;36m0\u001b[0m\u001b[0;34m]\u001b[0m\u001b[0;34m.\u001b[0m\u001b[0mlatitude\u001b[0m\u001b[0;34m\u001b[0m\u001b[0;34m\u001b[0m\u001b[0m\n\u001b[0m",
      "\u001b[0;31mAttributeError\u001b[0m: 'Point' object has no attribute 'latitude'"
     ]
    }
   ],
   "source": [
    "gdf.geometry[0].latitude"
   ]
  },
  {
   "cell_type": "code",
   "execution_count": null,
   "metadata": {},
   "outputs": [],
   "source": [
    "\n"
   ]
  },
  {
   "cell_type": "code",
   "execution_count": 21,
   "metadata": {},
   "outputs": [
    {
     "ename": "NameError",
     "evalue": "name 'geometry' is not defined",
     "output_type": "error",
     "traceback": [
      "\u001b[0;31m---------------------------------------------------------------------------\u001b[0m",
      "\u001b[0;31mNameError\u001b[0m                                 Traceback (most recent call last)",
      "\u001b[0;32m<ipython-input-21-e308054babc7>\u001b[0m in \u001b[0;36m<module>\u001b[0;34m\u001b[0m\n\u001b[0;32m----> 1\u001b[0;31m \u001b[0mcolumn\u001b[0m\u001b[0;34m=\u001b[0m\u001b[0mgeometry\u001b[0m\u001b[0;34m\u001b[0m\u001b[0;34m\u001b[0m\u001b[0m\n\u001b[0m",
      "\u001b[0;31mNameError\u001b[0m: name 'geometry' is not defined"
     ]
    }
   ],
   "source": [
    "column=geometry"
   ]
  },
  {
   "cell_type": "code",
   "execution_count": null,
   "metadata": {},
   "outputs": [],
   "source": [
    "def download_tiles(gdf, name=\"image-\", column=\"geometry\")\n",
    "    for index, row in gdf.iterrows():\n",
    "        y_coord= row[column].y\n",
    "        x_coord = row[column].x\n",
    "        url = f\"https://maps.googleapis.com/maps/api/staticmap?center={y_coord},{x_coord}&zoom=20&size=400x400&maptype=satellite&key={value}\"\n",
    "        downloader(url, index, name)"
   ]
  }
 ],
 "metadata": {
  "kernelspec": {
   "display_name": "Python 3",
   "language": "python",
   "name": "python3"
  },
  "language_info": {
   "codemirror_mode": {
    "name": "ipython",
    "version": 3
   },
   "file_extension": ".py",
   "mimetype": "text/x-python",
   "name": "python",
   "nbconvert_exporter": "python",
   "pygments_lexer": "ipython3",
   "version": "3.6.8"
  }
 },
 "nbformat": 4,
 "nbformat_minor": 2
}
